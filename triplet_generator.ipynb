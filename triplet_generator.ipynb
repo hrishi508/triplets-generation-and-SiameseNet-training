{
 "cells": [
  {
   "cell_type": "code",
   "execution_count": 1,
   "metadata": {},
   "outputs": [],
   "source": [
    "import os\n",
    "import cv2\n",
    "from numpy.random import randint\n",
    "import mtcnn\n",
    "from mtcnn.mtcnn import MTCNN\n",
    "import matplotlib.pyplot as plt"
   ]
  },
  {
   "cell_type": "code",
   "execution_count": null,
   "metadata": {},
   "outputs": [],
   "source": [
    "s = 'Datasets/GeorgiaT/'\n",
    "detector = MTCNN()\n",
    "\n",
    "def process(pixels):\n",
    "    results = detector.detect_faces(pixels)\n",
    "    x1, y1, width, height = results[0]['box']\n",
    "    x1, y1 = abs(x1), abs(y1)\n",
    "    x2, y2 = x1 + width, y1 + height\n",
    "    img = pixels[y1:y2, x1:x2]\n",
    "    img = cv2.resize(img, (160,160), interpolation=cv2.INTER_CUBIC)\n",
    "    return img\n",
    "\n",
    "for folder in os.listdir(s):\n",
    "    for image in os.listdir(s + folder):\n",
    "        img = cv2.imread(file_path)\n",
    "        img = process(img)\n",
    "        img = cv2.resize(img, (160,160), interpolation=cv2.INTER_CUBIC)\n",
    "        cv2.imwrite((s + folder + '/' +image), img)"
   ]
  },
  {
   "cell_type": "code",
   "execution_count": 2,
   "metadata": {},
   "outputs": [],
   "source": [
    "folder_list = []\n",
    "file_list = []\n",
    "file_list_temp = []\n",
    "for folder in os.listdir(s):\n",
    "    folder_path = s + folder + \"/\"\n",
    "    folder_list.append(folder_path)\n",
    "\n",
    "a = 0\n",
    "p = 0\n",
    "n = 0\n",
    "\n",
    "for l in range(10): #iterating over 10 subjects\n",
    "    \n",
    "    folder_path = folder_list[l] \n",
    "    for file in os.listdir(folder_path): #creating list of all image names of a subject's folder\n",
    "        file_path = folder_path+file\n",
    "        file_list.append(file_path)\n",
    "    \n",
    "    for i in range(10): #selecting first 10 images as anchor\n",
    "        file_path = file_list[i]\n",
    "        img = cv2.imread(file_path)\n",
    "        for j in range(720): #creating 720 copies of each of the 10 images\n",
    "            cv2.imwrite((\"triplets/Anchor/\"+\"A_\"+str(a)+\".jpg\"), img)\n",
    "            a += 1\n",
    "        \n",
    "        for j in range(1,11): #selecting 10 positive images from the current subject folder as positive\n",
    "                              #number of positive images for every anchor image = 720 (72*10)\n",
    "            file_path = file_list[(i+j)%10]\n",
    "            img = cv2.imread(file_path)\n",
    "            for k in range(72): #creating 72 copies of each of the 10 images\n",
    "                cv2.imwrite((\"triplets/Positive/\"+\"P_\"+str(p)+\".jpg\"), img)\n",
    "                p += 1\n",
    "                \n",
    "            for k in range(10): #iterating over 10 subjects\n",
    "                                #number of negative images for every positive image = 72 (8*9=72)\n",
    "                if k!=l: #ignoring current subject, select 9 negative remaining subject folders\n",
    "                    folder_path = folder_list[k]\n",
    "                    for file in os.listdir(folder_path):\n",
    "                        file_path = folder_path+file\n",
    "                        file_list_temp.append(file_path)\n",
    "\n",
    "                    idx = randint(0, 14, 8) #selecting random 8 negative images from the current negative subject folder\n",
    "                                            \n",
    "                    for m in idx:\n",
    "                        file_path = file_list_temp[m]\n",
    "                        img = cv2.imread(file_path)\n",
    "                        cv2.imwrite((\"triplets/Negative/\"+\"N_\"+str(n)+\".jpg\"), img)\n",
    "                        n += 1\n",
    "                    file_list_temp = []\n",
    "    file_list = []"
   ]
  },
  {
   "cell_type": "code",
   "execution_count": null,
   "metadata": {},
   "outputs": [],
   "source": []
  }
 ],
 "metadata": {
  "kernelspec": {
   "display_name": "Python 3 (ipykernel)",
   "language": "python",
   "name": "python3"
  },
  "language_info": {
   "codemirror_mode": {
    "name": "ipython",
    "version": 3
   },
   "file_extension": ".py",
   "mimetype": "text/x-python",
   "name": "python",
   "nbconvert_exporter": "python",
   "pygments_lexer": "ipython3",
   "version": "3.8.10"
  }
 },
 "nbformat": 4,
 "nbformat_minor": 2
}
